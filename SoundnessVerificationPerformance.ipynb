{
 "cells": [
  {
   "cell_type": "markdown",
   "metadata": {},
   "source": [
    "# Analysis of time performance of the soundness verification algorithm for Data Petri Nets\n",
    "\n",
    "During the generation of DPNs, the following parameters have been taken as an input:\n",
    "\n",
    "- PlacesCount - number of places in the DPN.\n",
    "- TransitionsCount - number of transitions in the DPN.\n",
    "- ArcsCount - number of arcs in the DPN (but actually number of arcs was predetermined by a number of transitions and places but it was possible to configure a number of additional arcs that are added when the backbone of the DPN is constructed)\n",
    "- VarsCount - number of variables.\n",
    "- ConditionsCount - number of atomic conditions in the DPN. Each transition may have 0, 1 or n conditions. In case of n conditions, they can be combined through conjunction and disjunction (logical connective is chosen randomly, but the result expression must conform to DNF).\n",
    "\n",
    "As a result, the constraint graph (or its fragment) is constructed. The constraint graph has the following properties:\n",
    "\n",
    "- ConstraintStates - number of states in the constraint graph for the DPN.\n",
    "- ConstraintArcs - number of arcs in the constraint graph for the DPN.\n",
    "- Boundedness - is the whole constraint graph constructed (if the whole, then the net is guaranteed to be bounded).\n",
    "\n",
    "Then, constraint graph is analyzed using graph traversing techniques, and the following properties are obtained:\n",
    "\n",
    "- DeadTransitions - number of dead transitions in the DPN.\n",
    "- Deadlocks - existence of deadlocks in the DPN.\n",
    "- Soundness - whether the DPN data-aware sound or not.\n",
    "\n",
    "Finally, the program measures time needed for checking a DPN for soundness:\n",
    "\n",
    "- Milliseconds - number of milliseconds needed for the algorithm to terminate with an answer regarding data-aware soundness of the DPN."
   ]
  },
  {
   "cell_type": "code",
   "execution_count": 1,
   "metadata": {},
   "outputs": [],
   "source": [
    "import math\n",
    "import statistics\n",
    "\n",
    "import numpy as np\n",
    "import ast\n",
    "import pandas as pd\n",
    "import matplotlib.pyplot as plt\n",
    "import seaborn as sns\n",
    "from sklearn import datasets, ensemble\n",
    "from sklearn.inspection import permutation_importance\n",
    "from sklearn.linear_model import LinearRegression\n",
    "from sklearn.metrics import mean_squared_error\n",
    "\n",
    "from scipy import stats\n",
    "from scipy.stats import norm\n",
    "\n",
    "import statsmodels.api as sm"
   ]
  },
  {
   "cell_type": "markdown",
   "metadata": {},
   "source": [
    "## QE-based Implementation"
   ]
  },
  {
   "cell_type": "markdown",
   "metadata": {},
   "source": [
    "### Read dataset for generated DPNs and results of their verification"
   ]
  },
  {
   "cell_type": "code",
   "execution_count": 2,
   "metadata": {},
   "outputs": [],
   "source": [
    "df = pd.read_csv('results_qeIml_total.csv')"
   ]
  },
  {
   "cell_type": "code",
   "execution_count": 3,
   "metadata": {},
   "outputs": [
    {
     "data": {
      "text/html": [
       "<div>\n",
       "<style scoped>\n",
       "    .dataframe tbody tr th:only-of-type {\n",
       "        vertical-align: middle;\n",
       "    }\n",
       "\n",
       "    .dataframe tbody tr th {\n",
       "        vertical-align: top;\n",
       "    }\n",
       "\n",
       "    .dataframe thead th {\n",
       "        text-align: right;\n",
       "    }\n",
       "</style>\n",
       "<table border=\"1\" class=\"dataframe\">\n",
       "  <thead>\n",
       "    <tr style=\"text-align: right;\">\n",
       "      <th></th>\n",
       "      <th>PlacesCount</th>\n",
       "      <th>TransitionsCount</th>\n",
       "      <th>ArcsCount</th>\n",
       "      <th>VarsCount</th>\n",
       "      <th>ConditionsCount</th>\n",
       "      <th>Boundedness</th>\n",
       "      <th>ConstraintStates</th>\n",
       "      <th>ConstraintArcs</th>\n",
       "      <th>DeadTransitions</th>\n",
       "      <th>Deadlocks</th>\n",
       "      <th>Soundness</th>\n",
       "      <th>Milliseconds</th>\n",
       "    </tr>\n",
       "  </thead>\n",
       "  <tbody>\n",
       "    <tr>\n",
       "      <th>0</th>\n",
       "      <td>2</td>\n",
       "      <td>1</td>\n",
       "      <td>2</td>\n",
       "      <td>1</td>\n",
       "      <td>0</td>\n",
       "      <td>True</td>\n",
       "      <td>2</td>\n",
       "      <td>1</td>\n",
       "      <td>0</td>\n",
       "      <td>False</td>\n",
       "      <td>True</td>\n",
       "      <td>32</td>\n",
       "    </tr>\n",
       "    <tr>\n",
       "      <th>1</th>\n",
       "      <td>2</td>\n",
       "      <td>1</td>\n",
       "      <td>2</td>\n",
       "      <td>1</td>\n",
       "      <td>0</td>\n",
       "      <td>True</td>\n",
       "      <td>2</td>\n",
       "      <td>1</td>\n",
       "      <td>0</td>\n",
       "      <td>False</td>\n",
       "      <td>True</td>\n",
       "      <td>1</td>\n",
       "    </tr>\n",
       "    <tr>\n",
       "      <th>2</th>\n",
       "      <td>2</td>\n",
       "      <td>1</td>\n",
       "      <td>2</td>\n",
       "      <td>1</td>\n",
       "      <td>0</td>\n",
       "      <td>True</td>\n",
       "      <td>2</td>\n",
       "      <td>1</td>\n",
       "      <td>0</td>\n",
       "      <td>False</td>\n",
       "      <td>True</td>\n",
       "      <td>1</td>\n",
       "    </tr>\n",
       "    <tr>\n",
       "      <th>3</th>\n",
       "      <td>2</td>\n",
       "      <td>1</td>\n",
       "      <td>2</td>\n",
       "      <td>1</td>\n",
       "      <td>0</td>\n",
       "      <td>True</td>\n",
       "      <td>2</td>\n",
       "      <td>1</td>\n",
       "      <td>0</td>\n",
       "      <td>False</td>\n",
       "      <td>True</td>\n",
       "      <td>1</td>\n",
       "    </tr>\n",
       "    <tr>\n",
       "      <th>4</th>\n",
       "      <td>2</td>\n",
       "      <td>1</td>\n",
       "      <td>2</td>\n",
       "      <td>1</td>\n",
       "      <td>0</td>\n",
       "      <td>True</td>\n",
       "      <td>2</td>\n",
       "      <td>1</td>\n",
       "      <td>0</td>\n",
       "      <td>False</td>\n",
       "      <td>True</td>\n",
       "      <td>1</td>\n",
       "    </tr>\n",
       "    <tr>\n",
       "      <th>...</th>\n",
       "      <td>...</td>\n",
       "      <td>...</td>\n",
       "      <td>...</td>\n",
       "      <td>...</td>\n",
       "      <td>...</td>\n",
       "      <td>...</td>\n",
       "      <td>...</td>\n",
       "      <td>...</td>\n",
       "      <td>...</td>\n",
       "      <td>...</td>\n",
       "      <td>...</td>\n",
       "      <td>...</td>\n",
       "    </tr>\n",
       "    <tr>\n",
       "      <th>36251</th>\n",
       "      <td>255</td>\n",
       "      <td>255</td>\n",
       "      <td>688</td>\n",
       "      <td>140</td>\n",
       "      <td>155</td>\n",
       "      <td>False</td>\n",
       "      <td>70</td>\n",
       "      <td>69</td>\n",
       "      <td>232</td>\n",
       "      <td>False</td>\n",
       "      <td>False</td>\n",
       "      <td>931</td>\n",
       "    </tr>\n",
       "    <tr>\n",
       "      <th>36252</th>\n",
       "      <td>255</td>\n",
       "      <td>255</td>\n",
       "      <td>690</td>\n",
       "      <td>140</td>\n",
       "      <td>155</td>\n",
       "      <td>False</td>\n",
       "      <td>2969</td>\n",
       "      <td>2968</td>\n",
       "      <td>167</td>\n",
       "      <td>False</td>\n",
       "      <td>False</td>\n",
       "      <td>63913</td>\n",
       "    </tr>\n",
       "    <tr>\n",
       "      <th>36253</th>\n",
       "      <td>255</td>\n",
       "      <td>255</td>\n",
       "      <td>690</td>\n",
       "      <td>140</td>\n",
       "      <td>155</td>\n",
       "      <td>False</td>\n",
       "      <td>2678</td>\n",
       "      <td>2678</td>\n",
       "      <td>154</td>\n",
       "      <td>False</td>\n",
       "      <td>False</td>\n",
       "      <td>30660</td>\n",
       "    </tr>\n",
       "    <tr>\n",
       "      <th>36254</th>\n",
       "      <td>255</td>\n",
       "      <td>255</td>\n",
       "      <td>690</td>\n",
       "      <td>140</td>\n",
       "      <td>155</td>\n",
       "      <td>False</td>\n",
       "      <td>554</td>\n",
       "      <td>553</td>\n",
       "      <td>199</td>\n",
       "      <td>False</td>\n",
       "      <td>False</td>\n",
       "      <td>4618</td>\n",
       "    </tr>\n",
       "    <tr>\n",
       "      <th>36255</th>\n",
       "      <td>255</td>\n",
       "      <td>255</td>\n",
       "      <td>690</td>\n",
       "      <td>140</td>\n",
       "      <td>155</td>\n",
       "      <td>False</td>\n",
       "      <td>7068</td>\n",
       "      <td>7068</td>\n",
       "      <td>154</td>\n",
       "      <td>False</td>\n",
       "      <td>False</td>\n",
       "      <td>629166</td>\n",
       "    </tr>\n",
       "  </tbody>\n",
       "</table>\n",
       "<p>36256 rows × 12 columns</p>\n",
       "</div>"
      ],
      "text/plain": [
       "       PlacesCount  TransitionsCount  ArcsCount  VarsCount  ConditionsCount  \\\n",
       "0                2                 1          2          1                0   \n",
       "1                2                 1          2          1                0   \n",
       "2                2                 1          2          1                0   \n",
       "3                2                 1          2          1                0   \n",
       "4                2                 1          2          1                0   \n",
       "...            ...               ...        ...        ...              ...   \n",
       "36251          255               255        688        140              155   \n",
       "36252          255               255        690        140              155   \n",
       "36253          255               255        690        140              155   \n",
       "36254          255               255        690        140              155   \n",
       "36255          255               255        690        140              155   \n",
       "\n",
       "       Boundedness  ConstraintStates  ConstraintArcs  DeadTransitions  \\\n",
       "0             True                 2               1                0   \n",
       "1             True                 2               1                0   \n",
       "2             True                 2               1                0   \n",
       "3             True                 2               1                0   \n",
       "4             True                 2               1                0   \n",
       "...            ...               ...             ...              ...   \n",
       "36251        False                70              69              232   \n",
       "36252        False              2969            2968              167   \n",
       "36253        False              2678            2678              154   \n",
       "36254        False               554             553              199   \n",
       "36255        False              7068            7068              154   \n",
       "\n",
       "       Deadlocks  Soundness  Milliseconds  \n",
       "0          False       True            32  \n",
       "1          False       True             1  \n",
       "2          False       True             1  \n",
       "3          False       True             1  \n",
       "4          False       True             1  \n",
       "...          ...        ...           ...  \n",
       "36251      False      False           931  \n",
       "36252      False      False         63913  \n",
       "36253      False      False         30660  \n",
       "36254      False      False          4618  \n",
       "36255      False      False        629166  \n",
       "\n",
       "[36256 rows x 12 columns]"
      ]
     },
     "execution_count": 3,
     "metadata": {},
     "output_type": "execute_result"
    }
   ],
   "source": [
    "df"
   ]
  },
  {
   "cell_type": "code",
   "execution_count": 4,
   "metadata": {},
   "outputs": [
    {
     "name": "stdout",
     "output_type": "stream",
     "text": [
      "<class 'pandas.core.frame.DataFrame'>\n",
      "RangeIndex: 36256 entries, 0 to 36255\n",
      "Data columns (total 12 columns):\n",
      " #   Column            Non-Null Count  Dtype\n",
      "---  ------            --------------  -----\n",
      " 0   PlacesCount       36256 non-null  int64\n",
      " 1   TransitionsCount  36256 non-null  int64\n",
      " 2   ArcsCount         36256 non-null  int64\n",
      " 3   VarsCount         36256 non-null  int64\n",
      " 4   ConditionsCount   36256 non-null  int64\n",
      " 5   Boundedness       36256 non-null  bool \n",
      " 6   ConstraintStates  36256 non-null  int64\n",
      " 7   ConstraintArcs    36256 non-null  int64\n",
      " 8   DeadTransitions   36256 non-null  int64\n",
      " 9   Deadlocks         36256 non-null  bool \n",
      " 10  Soundness         36256 non-null  bool \n",
      " 11  Milliseconds      36256 non-null  int64\n",
      "dtypes: bool(3), int64(9)\n",
      "memory usage: 2.6 MB\n"
     ]
    }
   ],
   "source": [
    "df.info()"
   ]
  },
  {
   "cell_type": "markdown",
   "metadata": {},
   "source": [
    "### Filtering\n",
    "If the model has a high amount of dead transitions, the soundness verification algorithm may terminate very quickly, even at first states. In the case of a high amount of dead transitions, the size of the model as well as quantity of variables barely influence time needed for the algorithm: it will mostly require less then hundreds of milliseconds to terminate. In addition, real business process models, in general, have quite low quantity of dead transitions. Thus, it is better to filter the source dataset by the portion of dead transitions. Since it is very difficult to get a huge model with a very low amount of dead transitions, it was decided to consider models with less than 60% of dead transitions.\n",
    "\n",
    "Taking only cases with less than 60% of dead transitions:"
   ]
  },
  {
   "cell_type": "code",
   "execution_count": 5,
   "metadata": {},
   "outputs": [],
   "source": [
    "df_filtered = df[df.DeadTransitions < 0.6 * df.TransitionsCount]"
   ]
  },
  {
   "cell_type": "code",
   "execution_count": 6,
   "metadata": {},
   "outputs": [
    {
     "data": {
      "text/html": [
       "<div>\n",
       "<style scoped>\n",
       "    .dataframe tbody tr th:only-of-type {\n",
       "        vertical-align: middle;\n",
       "    }\n",
       "\n",
       "    .dataframe tbody tr th {\n",
       "        vertical-align: top;\n",
       "    }\n",
       "\n",
       "    .dataframe thead th {\n",
       "        text-align: right;\n",
       "    }\n",
       "</style>\n",
       "<table border=\"1\" class=\"dataframe\">\n",
       "  <thead>\n",
       "    <tr style=\"text-align: right;\">\n",
       "      <th></th>\n",
       "      <th>PlacesCount</th>\n",
       "      <th>TransitionsCount</th>\n",
       "      <th>ArcsCount</th>\n",
       "      <th>VarsCount</th>\n",
       "      <th>ConditionsCount</th>\n",
       "      <th>Boundedness</th>\n",
       "      <th>ConstraintStates</th>\n",
       "      <th>ConstraintArcs</th>\n",
       "      <th>DeadTransitions</th>\n",
       "      <th>Deadlocks</th>\n",
       "      <th>Soundness</th>\n",
       "      <th>Milliseconds</th>\n",
       "    </tr>\n",
       "  </thead>\n",
       "  <tbody>\n",
       "    <tr>\n",
       "      <th>0</th>\n",
       "      <td>2</td>\n",
       "      <td>1</td>\n",
       "      <td>2</td>\n",
       "      <td>1</td>\n",
       "      <td>0</td>\n",
       "      <td>True</td>\n",
       "      <td>2</td>\n",
       "      <td>1</td>\n",
       "      <td>0</td>\n",
       "      <td>False</td>\n",
       "      <td>True</td>\n",
       "      <td>32</td>\n",
       "    </tr>\n",
       "    <tr>\n",
       "      <th>1</th>\n",
       "      <td>2</td>\n",
       "      <td>1</td>\n",
       "      <td>2</td>\n",
       "      <td>1</td>\n",
       "      <td>0</td>\n",
       "      <td>True</td>\n",
       "      <td>2</td>\n",
       "      <td>1</td>\n",
       "      <td>0</td>\n",
       "      <td>False</td>\n",
       "      <td>True</td>\n",
       "      <td>1</td>\n",
       "    </tr>\n",
       "    <tr>\n",
       "      <th>2</th>\n",
       "      <td>2</td>\n",
       "      <td>1</td>\n",
       "      <td>2</td>\n",
       "      <td>1</td>\n",
       "      <td>0</td>\n",
       "      <td>True</td>\n",
       "      <td>2</td>\n",
       "      <td>1</td>\n",
       "      <td>0</td>\n",
       "      <td>False</td>\n",
       "      <td>True</td>\n",
       "      <td>1</td>\n",
       "    </tr>\n",
       "    <tr>\n",
       "      <th>3</th>\n",
       "      <td>2</td>\n",
       "      <td>1</td>\n",
       "      <td>2</td>\n",
       "      <td>1</td>\n",
       "      <td>0</td>\n",
       "      <td>True</td>\n",
       "      <td>2</td>\n",
       "      <td>1</td>\n",
       "      <td>0</td>\n",
       "      <td>False</td>\n",
       "      <td>True</td>\n",
       "      <td>1</td>\n",
       "    </tr>\n",
       "    <tr>\n",
       "      <th>4</th>\n",
       "      <td>2</td>\n",
       "      <td>1</td>\n",
       "      <td>2</td>\n",
       "      <td>1</td>\n",
       "      <td>0</td>\n",
       "      <td>True</td>\n",
       "      <td>2</td>\n",
       "      <td>1</td>\n",
       "      <td>0</td>\n",
       "      <td>False</td>\n",
       "      <td>True</td>\n",
       "      <td>1</td>\n",
       "    </tr>\n",
       "    <tr>\n",
       "      <th>...</th>\n",
       "      <td>...</td>\n",
       "      <td>...</td>\n",
       "      <td>...</td>\n",
       "      <td>...</td>\n",
       "      <td>...</td>\n",
       "      <td>...</td>\n",
       "      <td>...</td>\n",
       "      <td>...</td>\n",
       "      <td>...</td>\n",
       "      <td>...</td>\n",
       "      <td>...</td>\n",
       "      <td>...</td>\n",
       "    </tr>\n",
       "    <tr>\n",
       "      <th>36040</th>\n",
       "      <td>240</td>\n",
       "      <td>240</td>\n",
       "      <td>645</td>\n",
       "      <td>230</td>\n",
       "      <td>125</td>\n",
       "      <td>False</td>\n",
       "      <td>3926</td>\n",
       "      <td>3925</td>\n",
       "      <td>141</td>\n",
       "      <td>False</td>\n",
       "      <td>False</td>\n",
       "      <td>105239</td>\n",
       "    </tr>\n",
       "    <tr>\n",
       "      <th>36063</th>\n",
       "      <td>240</td>\n",
       "      <td>240</td>\n",
       "      <td>644</td>\n",
       "      <td>260</td>\n",
       "      <td>125</td>\n",
       "      <td>False</td>\n",
       "      <td>2664</td>\n",
       "      <td>2706</td>\n",
       "      <td>139</td>\n",
       "      <td>False</td>\n",
       "      <td>False</td>\n",
       "      <td>291277</td>\n",
       "    </tr>\n",
       "    <tr>\n",
       "      <th>36215</th>\n",
       "      <td>255</td>\n",
       "      <td>255</td>\n",
       "      <td>690</td>\n",
       "      <td>215</td>\n",
       "      <td>140</td>\n",
       "      <td>False</td>\n",
       "      <td>5467</td>\n",
       "      <td>5466</td>\n",
       "      <td>148</td>\n",
       "      <td>False</td>\n",
       "      <td>False</td>\n",
       "      <td>151723</td>\n",
       "    </tr>\n",
       "    <tr>\n",
       "      <th>36225</th>\n",
       "      <td>255</td>\n",
       "      <td>255</td>\n",
       "      <td>689</td>\n",
       "      <td>230</td>\n",
       "      <td>140</td>\n",
       "      <td>False</td>\n",
       "      <td>9114</td>\n",
       "      <td>9113</td>\n",
       "      <td>138</td>\n",
       "      <td>False</td>\n",
       "      <td>False</td>\n",
       "      <td>599575</td>\n",
       "    </tr>\n",
       "    <tr>\n",
       "      <th>36236</th>\n",
       "      <td>255</td>\n",
       "      <td>255</td>\n",
       "      <td>689</td>\n",
       "      <td>260</td>\n",
       "      <td>140</td>\n",
       "      <td>False</td>\n",
       "      <td>5327</td>\n",
       "      <td>5326</td>\n",
       "      <td>146</td>\n",
       "      <td>False</td>\n",
       "      <td>False</td>\n",
       "      <td>126022</td>\n",
       "    </tr>\n",
       "  </tbody>\n",
       "</table>\n",
       "<p>8526 rows × 12 columns</p>\n",
       "</div>"
      ],
      "text/plain": [
       "       PlacesCount  TransitionsCount  ArcsCount  VarsCount  ConditionsCount  \\\n",
       "0                2                 1          2          1                0   \n",
       "1                2                 1          2          1                0   \n",
       "2                2                 1          2          1                0   \n",
       "3                2                 1          2          1                0   \n",
       "4                2                 1          2          1                0   \n",
       "...            ...               ...        ...        ...              ...   \n",
       "36040          240               240        645        230              125   \n",
       "36063          240               240        644        260              125   \n",
       "36215          255               255        690        215              140   \n",
       "36225          255               255        689        230              140   \n",
       "36236          255               255        689        260              140   \n",
       "\n",
       "       Boundedness  ConstraintStates  ConstraintArcs  DeadTransitions  \\\n",
       "0             True                 2               1                0   \n",
       "1             True                 2               1                0   \n",
       "2             True                 2               1                0   \n",
       "3             True                 2               1                0   \n",
       "4             True                 2               1                0   \n",
       "...            ...               ...             ...              ...   \n",
       "36040        False              3926            3925              141   \n",
       "36063        False              2664            2706              139   \n",
       "36215        False              5467            5466              148   \n",
       "36225        False              9114            9113              138   \n",
       "36236        False              5327            5326              146   \n",
       "\n",
       "       Deadlocks  Soundness  Milliseconds  \n",
       "0          False       True            32  \n",
       "1          False       True             1  \n",
       "2          False       True             1  \n",
       "3          False       True             1  \n",
       "4          False       True             1  \n",
       "...          ...        ...           ...  \n",
       "36040      False      False        105239  \n",
       "36063      False      False        291277  \n",
       "36215      False      False        151723  \n",
       "36225      False      False        599575  \n",
       "36236      False      False        126022  \n",
       "\n",
       "[8526 rows x 12 columns]"
      ]
     },
     "execution_count": 6,
     "metadata": {},
     "output_type": "execute_result"
    }
   ],
   "source": [
    "df_filtered"
   ]
  },
  {
   "cell_type": "markdown",
   "metadata": {},
   "source": [
    "### Comparing value of each input parameter (PlacesCount, TransitionsCount, ArcsCount, VarsCount and ConditionsCount) with Milliseconds needed for the algorithm to terminate"
   ]
  },
  {
   "cell_type": "markdown",
   "metadata": {},
   "source": [
    "#### Number of places"
   ]
  },
  {
   "cell_type": "code",
   "execution_count": 7,
   "metadata": {},
   "outputs": [
    {
     "data": {
      "text/plain": [
       "<matplotlib.legend.Legend at 0x1fd7da57f70>"
      ]
     },
     "execution_count": 7,
     "metadata": {},
     "output_type": "execute_result"
    },
    {
     "data": {
      "image/png": "[encoded data removed]",
      "text/plain": [
       "<Figure size 432x288 with 1 Axes>"
      ]
     },
     "metadata": {
      "needs_background": "light"
     },
     "output_type": "display_data"
    }
   ],
   "source": [
    "ms_per_places = df_filtered.groupby('PlacesCount').mean()['Milliseconds']\n",
    "plt.plot(ms_per_places, color=\"blue\",label=\"Original Milliseconds per PlacesCount\") \n",
    "rolling_mean = ms_per_places.rolling(3).mean() \n",
    "plt.plot(rolling_mean, color=\"red\", label=\"Rolling Mean Milliseconds per PlacesCount\") \n",
    "plt.legend(loc=\"best\")"
   ]
  },
  {
   "cell_type": "markdown",
   "metadata": {},
   "source": [
    "#### Number of transitions"
   ]
  },
  {
   "cell_type": "code",
   "execution_count": 8,
   "metadata": {},
   "outputs": [
    {
     "data": {
      "text/plain": [
       "<matplotlib.legend.Legend at 0x1fd7da6f220>"
      ]
     },
     "execution_count": 8,
     "metadata": {},
     "output_type": "execute_result"
    },
    {
     "data": {
      "image/png": "[encoded data removed]",
      "text/plain": [
       "<Figure size 432x288 with 1 Axes>"
      ]
     },
     "metadata": {
      "needs_background": "light"
     },
     "output_type": "display_data"
    }
   ],
   "source": [
    "ms_per_transitions = df_filtered[df_filtered.TransitionsCount <= 250].groupby('TransitionsCount').mean()['Milliseconds']\n",
    "plt.plot(ms_per_transitions, color=\"blue\",label=\"Original Milliseconds per TransitionsCount\") \n",
    "rolling_mean = ms_per_transitions.rolling(3).mean() \n",
    "plt.plot(rolling_mean, color=\"red\", label=\"Rolling Mean Milliseconds per TransitionsCount\") \n",
    "plt.legend(loc=\"best\")"
   ]
  },
  {
   "cell_type": "markdown",
   "metadata": {},
   "source": [
    "#### Number of arcs"
   ]
  },
  {
   "cell_type": "code",
   "execution_count": 9,
   "metadata": {},
   "outputs": [
    {
     "data": {
      "text/plain": [
       "<matplotlib.legend.Legend at 0x1fd7db2ec70>"
      ]
     },
     "execution_count": 9,
     "metadata": {},
     "output_type": "execute_result"
    },
    {
     "data": {
      "image/png": "[encoded data removed]",
      "text/plain": [
       "<Figure size 432x288 with 1 Axes>"
      ]
     },
     "metadata": {
      "needs_background": "light"
     },
     "output_type": "display_data"
    }
   ],
   "source": [
    "ms_per_arcs = df_filtered.groupby('ArcsCount').mean()['Milliseconds']\n",
    "plt.plot(ms_per_arcs, color=\"blue\",label=\"Original Milliseconds per ArcsCount\") \n",
    "rolling_mean = ms_per_arcs.rolling(3).mean() \n",
    "plt.plot(rolling_mean, color=\"red\", label=\"Rolling Mean Milliseconds per ArcsCount\") \n",
    "plt.legend(loc=\"best\")"
   ]
  },
  {
   "cell_type": "markdown",
   "metadata": {},
   "source": [
    "#### Number of variables"
   ]
  },
  {
   "cell_type": "code",
   "execution_count": 10,
   "metadata": {},
   "outputs": [
    {
     "data": {
      "text/plain": [
       "<matplotlib.legend.Legend at 0x1fd7db84970>"
      ]
     },
     "execution_count": 10,
     "metadata": {},
     "output_type": "execute_result"
    },
    {
     "data": {
      "image/png": "[encoded data removed]",
      "text/plain": [
       "<Figure size 432x288 with 1 Axes>"
      ]
     },
     "metadata": {
      "needs_background": "light"
     },
     "output_type": "display_data"
    }
   ],
   "source": [
    "ms_per_vars = df_filtered.groupby('VarsCount').mean()['Milliseconds']\n",
    "plt.plot(ms_per_vars, color=\"blue\",label=\"Original Milliseconds per VarsCount\") \n",
    "rolling_mean = ms_per_vars.rolling(3).mean() \n",
    "plt.plot(rolling_mean, color=\"red\", label=\"Rolling Mean Milliseconds per VarsCount\") \n",
    "plt.legend(loc=\"best\")"
   ]
  },
  {
   "cell_type": "markdown",
   "metadata": {},
   "source": [
    "#### Number of conditions"
   ]
  },
  {
   "cell_type": "code",
   "execution_count": 11,
   "metadata": {},
   "outputs": [
    {
     "data": {
      "text/plain": [
       "<matplotlib.legend.Legend at 0x1fd7dbef940>"
      ]
     },
     "execution_count": 11,
     "metadata": {},
     "output_type": "execute_result"
    },
    {
     "data": {
      "image/png": "[encoded data removed]",
      "text/plain": [
       "<Figure size 432x288 with 1 Axes>"
      ]
     },
     "metadata": {
      "needs_background": "light"
     },
     "output_type": "display_data"
    }
   ],
   "source": [
    "ms_per_conditions = df_filtered.groupby('ConditionsCount').mean()['Milliseconds']\n",
    "plt.plot(ms_per_conditions, color=\"blue\",label=\"Original Milliseconds per ConditionsCount\") \n",
    "rolling_mean = ms_per_conditions.rolling(3).mean() \n",
    "plt.plot(rolling_mean, color=\"red\", label=\"Rolling Mean Milliseconds per ConditionsCount\") \n",
    "plt.legend(loc=\"best\")"
   ]
  },
  {
   "cell_type": "markdown",
   "metadata": {},
   "source": [
    "## Dataset description"
   ]
  },
  {
   "cell_type": "code",
   "execution_count": 12,
   "metadata": {},
   "outputs": [
    {
     "name": "stdout",
     "output_type": "stream",
     "text": [
      "<class 'pandas.core.frame.DataFrame'>\n",
      "Int64Index: 8526 entries, 0 to 36236\n",
      "Data columns (total 12 columns):\n",
      " #   Column            Non-Null Count  Dtype\n",
      "---  ------            --------------  -----\n",
      " 0   PlacesCount       8526 non-null   int64\n",
      " 1   TransitionsCount  8526 non-null   int64\n",
      " 2   ArcsCount         8526 non-null   int64\n",
      " 3   VarsCount         8526 non-null   int64\n",
      " 4   ConditionsCount   8526 non-null   int64\n",
      " 5   Boundedness       8526 non-null   bool \n",
      " 6   ConstraintStates  8526 non-null   int64\n",
      " 7   ConstraintArcs    8526 non-null   int64\n",
      " 8   DeadTransitions   8526 non-null   int64\n",
      " 9   Deadlocks         8526 non-null   bool \n",
      " 10  Soundness         8526 non-null   bool \n",
      " 11  Milliseconds      8526 non-null   int64\n",
      "dtypes: bool(3), int64(9)\n",
      "memory usage: 691.1 KB\n"
     ]
    }
   ],
   "source": [
    "df_filtered.info()"
   ]
  },
  {
   "cell_type": "markdown",
   "metadata": {},
   "source": [
    "#### Number of places"
   ]
  },
  {
   "cell_type": "code",
   "execution_count": 13,
   "metadata": {},
   "outputs": [
    {
     "name": "stderr",
     "output_type": "stream",
     "text": [
      "C:\\Users\\Admin\\Miniconda3\\envs\\IntroML\\lib\\site-packages\\seaborn\\distributions.py:2619: FutureWarning: `distplot` is a deprecated function and will be removed in a future version. Please adapt your code to use either `displot` (a figure-level function with similar flexibility) or `histplot` (an axes-level function for histograms).\n",
      "  warnings.warn(msg, FutureWarning)\n",
      "C:\\Users\\Admin\\Miniconda3\\envs\\IntroML\\lib\\site-packages\\matplotlib\\cbook\\__init__.py:1402: FutureWarning: Support for multi-dimensional indexing (e.g. `obj[:, None]`) is deprecated and will be removed in a future version.  Convert to a numpy array before indexing instead.\n",
      "  ndim = x[:, None].ndim\n",
      "C:\\Users\\Admin\\Miniconda3\\envs\\IntroML\\lib\\site-packages\\matplotlib\\axes\\_base.py:276: FutureWarning: Support for multi-dimensional indexing (e.g. `obj[:, None]`) is deprecated and will be removed in a future version.  Convert to a numpy array before indexing instead.\n",
      "  x = x[:, np.newaxis]\n",
      "C:\\Users\\Admin\\Miniconda3\\envs\\IntroML\\lib\\site-packages\\matplotlib\\axes\\_base.py:278: FutureWarning: Support for multi-dimensional indexing (e.g. `obj[:, None]`) is deprecated and will be removed in a future version.  Convert to a numpy array before indexing instead.\n",
      "  y = y[:, np.newaxis]\n"
     ]
    },
    {
     "data": {
      "text/plain": [
       "<matplotlib.axes._subplots.AxesSubplot at 0x1fd7dc863d0>"
      ]
     },
     "execution_count": 13,
     "metadata": {},
     "output_type": "execute_result"
    },
    {
     "data": {
      "image/png": "[encoded data removed]",
      "text/plain": [
       "<Figure size 432x288 with 1 Axes>"
      ]
     },
     "metadata": {
      "needs_background": "light"
     },
     "output_type": "display_data"
    }
   ],
   "source": [
    "sns.distplot(df_filtered.PlacesCount, fit=stats.norm)"
   ]
  },
  {
   "cell_type": "markdown",
   "metadata": {},
   "source": [
    "#### Number of transitions"
   ]
  },
  {
   "cell_type": "code",
   "execution_count": 14,
   "metadata": {},
   "outputs": [
    {
     "name": "stderr",
     "output_type": "stream",
     "text": [
      "C:\\Users\\Admin\\Miniconda3\\envs\\IntroML\\lib\\site-packages\\seaborn\\distributions.py:2619: FutureWarning: `distplot` is a deprecated function and will be removed in a future version. Please adapt your code to use either `displot` (a figure-level function with similar flexibility) or `histplot` (an axes-level function for histograms).\n",
      "  warnings.warn(msg, FutureWarning)\n",
      "C:\\Users\\Admin\\Miniconda3\\envs\\IntroML\\lib\\site-packages\\matplotlib\\cbook\\__init__.py:1402: FutureWarning: Support for multi-dimensional indexing (e.g. `obj[:, None]`) is deprecated and will be removed in a future version.  Convert to a numpy array before indexing instead.\n",
      "  ndim = x[:, None].ndim\n",
      "C:\\Users\\Admin\\Miniconda3\\envs\\IntroML\\lib\\site-packages\\matplotlib\\axes\\_base.py:276: FutureWarning: Support for multi-dimensional indexing (e.g. `obj[:, None]`) is deprecated and will be removed in a future version.  Convert to a numpy array before indexing instead.\n",
      "  x = x[:, np.newaxis]\n",
      "C:\\Users\\Admin\\Miniconda3\\envs\\IntroML\\lib\\site-packages\\matplotlib\\axes\\_base.py:278: FutureWarning: Support for multi-dimensional indexing (e.g. `obj[:, None]`) is deprecated and will be removed in a future version.  Convert to a numpy array before indexing instead.\n",
      "  y = y[:, np.newaxis]\n"
     ]
    },
    {
     "data": {
      "text/plain": [
       "<matplotlib.axes._subplots.AxesSubplot at 0x1fd7dd183a0>"
      ]
     },
     "execution_count": 14,
     "metadata": {},
     "output_type": "execute_result"
    },
    {
     "data": {
      "image/png": "[encoded data removed]",
      "text/plain": [
       "<Figure size 432x288 with 1 Axes>"
      ]
     },
     "metadata": {
      "needs_background": "light"
     },
     "output_type": "display_data"
    }
   ],
   "source": [
    "sns.distplot(df_filtered.TransitionsCount, fit=stats.norm)"
   ]
  },
  {
   "cell_type": "markdown",
   "metadata": {},
   "source": [
    "#### Number of arcs"
   ]
  },
  {
   "cell_type": "code",
   "execution_count": 15,
   "metadata": {},
   "outputs": [
    {
     "name": "stderr",
     "output_type": "stream",
     "text": [
      "C:\\Users\\Admin\\Miniconda3\\envs\\IntroML\\lib\\site-packages\\seaborn\\distributions.py:2619: FutureWarning: `distplot` is a deprecated function and will be removed in a future version. Please adapt your code to use either `displot` (a figure-level function with similar flexibility) or `histplot` (an axes-level function for histograms).\n",
      "  warnings.warn(msg, FutureWarning)\n",
      "C:\\Users\\Admin\\Miniconda3\\envs\\IntroML\\lib\\site-packages\\matplotlib\\cbook\\__init__.py:1402: FutureWarning: Support for multi-dimensional indexing (e.g. `obj[:, None]`) is deprecated and will be removed in a future version.  Convert to a numpy array before indexing instead.\n",
      "  ndim = x[:, None].ndim\n",
      "C:\\Users\\Admin\\Miniconda3\\envs\\IntroML\\lib\\site-packages\\matplotlib\\axes\\_base.py:276: FutureWarning: Support for multi-dimensional indexing (e.g. `obj[:, None]`) is deprecated and will be removed in a future version.  Convert to a numpy array before indexing instead.\n",
      "  x = x[:, np.newaxis]\n",
      "C:\\Users\\Admin\\Miniconda3\\envs\\IntroML\\lib\\site-packages\\matplotlib\\axes\\_base.py:278: FutureWarning: Support for multi-dimensional indexing (e.g. `obj[:, None]`) is deprecated and will be removed in a future version.  Convert to a numpy array before indexing instead.\n",
      "  y = y[:, np.newaxis]\n"
     ]
    },
    {
     "data": {
      "text/plain": [
       "<matplotlib.axes._subplots.AxesSubplot at 0x1fd7e512310>"
      ]
     },
     "execution_count": 15,
     "metadata": {},
     "output_type": "execute_result"
    },
    {
     "data": {
      "image/png": "[encoded data removed]",
      "text/plain": [
       "<Figure size 432x288 with 1 Axes>"
      ]
     },
     "metadata": {
      "needs_background": "light"
     },
     "output_type": "display_data"
    }
   ],
   "source": [
    "sns.distplot(df_filtered.ArcsCount, fit=stats.norm)"
   ]
  },
  {
   "cell_type": "markdown",
   "metadata": {},
   "source": [
    "#### Number of variables"
   ]
  },
  {
   "cell_type": "code",
   "execution_count": 16,
   "metadata": {},
   "outputs": [
    {
     "name": "stderr",
     "output_type": "stream",
     "text": [
      "C:\\Users\\Admin\\Miniconda3\\envs\\IntroML\\lib\\site-packages\\seaborn\\distributions.py:2619: FutureWarning: `distplot` is a deprecated function and will be removed in a future version. Please adapt your code to use either `displot` (a figure-level function with similar flexibility) or `histplot` (an axes-level function for histograms).\n",
      "  warnings.warn(msg, FutureWarning)\n",
      "C:\\Users\\Admin\\Miniconda3\\envs\\IntroML\\lib\\site-packages\\matplotlib\\cbook\\__init__.py:1402: FutureWarning: Support for multi-dimensional indexing (e.g. `obj[:, None]`) is deprecated and will be removed in a future version.  Convert to a numpy array before indexing instead.\n",
      "  ndim = x[:, None].ndim\n",
      "C:\\Users\\Admin\\Miniconda3\\envs\\IntroML\\lib\\site-packages\\matplotlib\\axes\\_base.py:276: FutureWarning: Support for multi-dimensional indexing (e.g. `obj[:, None]`) is deprecated and will be removed in a future version.  Convert to a numpy array before indexing instead.\n",
      "  x = x[:, np.newaxis]\n",
      "C:\\Users\\Admin\\Miniconda3\\envs\\IntroML\\lib\\site-packages\\matplotlib\\axes\\_base.py:278: FutureWarning: Support for multi-dimensional indexing (e.g. `obj[:, None]`) is deprecated and will be removed in a future version.  Convert to a numpy array before indexing instead.\n",
      "  y = y[:, np.newaxis]\n"
     ]
    },
    {
     "data": {
      "text/plain": [
       "<matplotlib.axes._subplots.AxesSubplot at 0x1fd7e6d0670>"
      ]
     },
     "execution_count": 16,
     "metadata": {},
     "output_type": "execute_result"
    },
    {
     "data": {
      "image/png": "[encoded data removed]",
      "text/plain": [
       "<Figure size 432x288 with 1 Axes>"
      ]
     },
     "metadata": {
      "needs_background": "light"
     },
     "output_type": "display_data"
    }
   ],
   "source": [
    "sns.distplot(df_filtered.VarsCount, fit=stats.norm)"
   ]
  },
  {
   "cell_type": "markdown",
   "metadata": {},
   "source": [
    "#### Number of conditions"
   ]
  },
  {
   "cell_type": "code",
   "execution_count": 17,
   "metadata": {},
   "outputs": [
    {
     "name": "stderr",
     "output_type": "stream",
     "text": [
      "C:\\Users\\Admin\\Miniconda3\\envs\\IntroML\\lib\\site-packages\\seaborn\\distributions.py:2619: FutureWarning: `distplot` is a deprecated function and will be removed in a future version. Please adapt your code to use either `displot` (a figure-level function with similar flexibility) or `histplot` (an axes-level function for histograms).\n",
      "  warnings.warn(msg, FutureWarning)\n",
      "C:\\Users\\Admin\\Miniconda3\\envs\\IntroML\\lib\\site-packages\\matplotlib\\cbook\\__init__.py:1402: FutureWarning: Support for multi-dimensional indexing (e.g. `obj[:, None]`) is deprecated and will be removed in a future version.  Convert to a numpy array before indexing instead.\n",
      "  ndim = x[:, None].ndim\n",
      "C:\\Users\\Admin\\Miniconda3\\envs\\IntroML\\lib\\site-packages\\matplotlib\\axes\\_base.py:276: FutureWarning: Support for multi-dimensional indexing (e.g. `obj[:, None]`) is deprecated and will be removed in a future version.  Convert to a numpy array before indexing instead.\n",
      "  x = x[:, np.newaxis]\n",
      "C:\\Users\\Admin\\Miniconda3\\envs\\IntroML\\lib\\site-packages\\matplotlib\\axes\\_base.py:278: FutureWarning: Support for multi-dimensional indexing (e.g. `obj[:, None]`) is deprecated and will be removed in a future version.  Convert to a numpy array before indexing instead.\n",
      "  y = y[:, np.newaxis]\n"
     ]
    },
    {
     "data": {
      "text/plain": [
       "<matplotlib.axes._subplots.AxesSubplot at 0x1fd7e7afa30>"
      ]
     },
     "execution_count": 17,
     "metadata": {},
     "output_type": "execute_result"
    },
    {
     "data": {
      "image/png": "[encoded data removed]",
      "text/plain": [
       "<Figure size 432x288 with 1 Axes>"
      ]
     },
     "metadata": {
      "needs_background": "light"
     },
     "output_type": "display_data"
    }
   ],
   "source": [
    "sns.distplot(df_filtered.ConditionsCount, fit=stats.norm)"
   ]
  },
  {
   "cell_type": "markdown",
   "metadata": {},
   "source": [
    "According to visualizations, all input parameters have a highly skewed leptokurtic distribution with positive skewness. It can be explained by the following factors:\n",
    "\n",
    "- Actually, with the growth of the size of the model, the step to increase the models has also grown. Specifically, the step for values of parameters in range from 1 to 25 was 1, for values in range from 25 to 75 the step was 3, for values from 75 to 125 the range was 5, etc.\n",
    "- The portion of DPNs with dead transitions < 50% of the all transitions, generally, decreases with the size of the model."
   ]
  },
  {
   "cell_type": "markdown",
   "metadata": {},
   "source": [
    "#### Milliseconds needed for the algorithm"
   ]
  },
  {
   "cell_type": "code",
   "execution_count": 18,
   "metadata": {},
   "outputs": [
    {
     "name": "stderr",
     "output_type": "stream",
     "text": [
      "C:\\Users\\Admin\\Miniconda3\\envs\\IntroML\\lib\\site-packages\\seaborn\\distributions.py:2619: FutureWarning: `distplot` is a deprecated function and will be removed in a future version. Please adapt your code to use either `displot` (a figure-level function with similar flexibility) or `histplot` (an axes-level function for histograms).\n",
      "  warnings.warn(msg, FutureWarning)\n",
      "C:\\Users\\Admin\\Miniconda3\\envs\\IntroML\\lib\\site-packages\\matplotlib\\cbook\\__init__.py:1402: FutureWarning: Support for multi-dimensional indexing (e.g. `obj[:, None]`) is deprecated and will be removed in a future version.  Convert to a numpy array before indexing instead.\n",
      "  ndim = x[:, None].ndim\n",
      "C:\\Users\\Admin\\Miniconda3\\envs\\IntroML\\lib\\site-packages\\matplotlib\\axes\\_base.py:276: FutureWarning: Support for multi-dimensional indexing (e.g. `obj[:, None]`) is deprecated and will be removed in a future version.  Convert to a numpy array before indexing instead.\n",
      "  x = x[:, np.newaxis]\n",
      "C:\\Users\\Admin\\Miniconda3\\envs\\IntroML\\lib\\site-packages\\matplotlib\\axes\\_base.py:278: FutureWarning: Support for multi-dimensional indexing (e.g. `obj[:, None]`) is deprecated and will be removed in a future version.  Convert to a numpy array before indexing instead.\n",
      "  y = y[:, np.newaxis]\n"
     ]
    },
    {
     "data": {
      "text/plain": [
       "<matplotlib.axes._subplots.AxesSubplot at 0x1fd7e85eb20>"
      ]
     },
     "execution_count": 18,
     "metadata": {},
     "output_type": "execute_result"
    },
    {
     "data": {
      "image/png": "[encoded data removed]",
      "text/plain": [
       "<Figure size 432x288 with 1 Axes>"
      ]
     },
     "metadata": {
      "needs_background": "light"
     },
     "output_type": "display_data"
    }
   ],
   "source": [
    "sns.distplot(df_filtered.Milliseconds, fit=stats.norm)"
   ]
  },
  {
   "cell_type": "code",
   "execution_count": 19,
   "metadata": {},
   "outputs": [
    {
     "data": {
      "text/plain": [
       "<matplotlib.axes._subplots.AxesSubplot at 0x1fd7e9d4730>"
      ]
     },
     "execution_count": 19,
     "metadata": {},
     "output_type": "execute_result"
    },
    {
     "data": {
      "image/png": "[encoded data removed]",
      "text/plain": [
       "<Figure size 432x288 with 1 Axes>"
      ]
     },
     "metadata": {
      "needs_background": "light"
     },
     "output_type": "display_data"
    }
   ],
   "source": [
    "df.boxplot(['Milliseconds'])"
   ]
  },
  {
   "cell_type": "markdown",
   "metadata": {},
   "source": [
    "The plot shows that there are outliers in time needed for the algorithm, and mostly the algorithm requires quite small amount of time to check for soundness (potentially, it is due to the fact that there are more cases for 1..25 places/transitions/extra arcs/variables/conditions that influence the distribution of this variable).\n",
    "\n",
    "### Potentially, we can make a more equal distribution!!!"
   ]
  },
  {
   "cell_type": "markdown",
   "metadata": {},
   "source": [
    "### Correlations between variables in the dataset:"
   ]
  },
  {
   "cell_type": "code",
   "execution_count": 40,
   "metadata": {},
   "outputs": [
    {
     "data": {
      "text/html": [
       "<div>\n",
       "<style scoped>\n",
       "    .dataframe tbody tr th:only-of-type {\n",
       "        vertical-align: middle;\n",
       "    }\n",
       "\n",
       "    .dataframe tbody tr th {\n",
       "        vertical-align: top;\n",
       "    }\n",
       "\n",
       "    .dataframe thead th {\n",
       "        text-align: right;\n",
       "    }\n",
       "</style>\n",
       "<table border=\"1\" class=\"dataframe\">\n",
       "  <thead>\n",
       "    <tr style=\"text-align: right;\">\n",
       "      <th></th>\n",
       "      <th>PlacesCount</th>\n",
       "      <th>TransitionsCount</th>\n",
       "      <th>ArcsCount</th>\n",
       "      <th>VarsCount</th>\n",
       "      <th>ConditionsCount</th>\n",
       "    </tr>\n",
       "  </thead>\n",
       "  <tbody>\n",
       "    <tr>\n",
       "      <th>PlacesCount</th>\n",
       "      <td>1.000000</td>\n",
       "      <td>0.873686</td>\n",
       "      <td>0.947608</td>\n",
       "      <td>0.804812</td>\n",
       "      <td>0.820873</td>\n",
       "    </tr>\n",
       "    <tr>\n",
       "      <th>TransitionsCount</th>\n",
       "      <td>0.873686</td>\n",
       "      <td>1.000000</td>\n",
       "      <td>0.968622</td>\n",
       "      <td>0.757317</td>\n",
       "      <td>0.775747</td>\n",
       "    </tr>\n",
       "    <tr>\n",
       "      <th>ArcsCount</th>\n",
       "      <td>0.947608</td>\n",
       "      <td>0.968622</td>\n",
       "      <td>1.000000</td>\n",
       "      <td>0.758479</td>\n",
       "      <td>0.779709</td>\n",
       "    </tr>\n",
       "    <tr>\n",
       "      <th>VarsCount</th>\n",
       "      <td>0.804812</td>\n",
       "      <td>0.757317</td>\n",
       "      <td>0.758479</td>\n",
       "      <td>1.000000</td>\n",
       "      <td>0.748286</td>\n",
       "    </tr>\n",
       "    <tr>\n",
       "      <th>ConditionsCount</th>\n",
       "      <td>0.820873</td>\n",
       "      <td>0.775747</td>\n",
       "      <td>0.779709</td>\n",
       "      <td>0.748286</td>\n",
       "      <td>1.000000</td>\n",
       "    </tr>\n",
       "  </tbody>\n",
       "</table>\n",
       "</div>"
      ],
      "text/plain": [
       "                  PlacesCount  TransitionsCount  ArcsCount  VarsCount  \\\n",
       "PlacesCount          1.000000          0.873686   0.947608   0.804812   \n",
       "TransitionsCount     0.873686          1.000000   0.968622   0.757317   \n",
       "ArcsCount            0.947608          0.968622   1.000000   0.758479   \n",
       "VarsCount            0.804812          0.757317   0.758479   1.000000   \n",
       "ConditionsCount      0.820873          0.775747   0.779709   0.748286   \n",
       "\n",
       "                  ConditionsCount  \n",
       "PlacesCount              0.820873  \n",
       "TransitionsCount         0.775747  \n",
       "ArcsCount                0.779709  \n",
       "VarsCount                0.748286  \n",
       "ConditionsCount          1.000000  "
      ]
     },
     "execution_count": 40,
     "metadata": {},
     "output_type": "execute_result"
    }
   ],
   "source": [
    "df_filtered[['PlacesCount', 'TransitionsCount', 'ArcsCount', 'VarsCount', 'ConditionsCount']].corr('spearman')"
   ]
  },
  {
   "cell_type": "code",
   "execution_count": 20,
   "metadata": {},
   "outputs": [
    {
     "data": {
      "image/png": "[encoded data removed]",
      "text/plain": [
       "<Figure size 432x432 with 2 Axes>"
      ]
     },
     "metadata": {
      "needs_background": "light"
     },
     "output_type": "display_data"
    }
   ],
   "source": [
    "corr = df_filtered.corr('spearman')\n",
    "plt.figure(figsize=(6, 6))\n",
    "sns.heatmap(corr, vmax=.8, square=True, cmap='Blues')\n",
    "plt.show()"
   ]
  },
  {
   "cell_type": "markdown",
   "metadata": {},
   "source": [
    "It is seen that there is quite high correlation between input parameters and actual time needed for the algorithm to terminate"
   ]
  },
  {
   "cell_type": "code",
   "execution_count": 21,
   "metadata": {},
   "outputs": [
    {
     "data": {
      "text/plain": [
       "Milliseconds        1.000000\n",
       "ConstraintStates    0.901768\n",
       "ConstraintArcs      0.899372\n",
       "ConditionsCount     0.788798\n",
       "PlacesCount         0.785155\n",
       "ArcsCount           0.755215\n",
       "TransitionsCount    0.729949\n",
       "VarsCount           0.659992\n",
       "DeadTransitions     0.619051\n",
       "Deadlocks          -0.069714\n",
       "Soundness          -0.327116\n",
       "Boundedness        -0.423366\n",
       "dtype: float64"
      ]
     },
     "execution_count": 21,
     "metadata": {},
     "output_type": "execute_result"
    }
   ],
   "source": [
    "df_filtered.corrwith(df['Milliseconds'],  method='spearman').sort_values(ascending=False)"
   ]
  },
  {
   "cell_type": "markdown",
   "metadata": {},
   "source": [
    "### Model for all parameters\n",
    "\n",
    "Using linear regression to evaluate influence of any parameters on the time needed for the algorithm to terminate. From the correlation table above, we can conclude that the relation between constraint states, constraint arcs and milliseconds is almost linear; thus, we can try to use linear regression model:"
   ]
  },
  {
   "cell_type": "code",
   "execution_count": 22,
   "metadata": {},
   "outputs": [],
   "source": [
    "x_mult = df_filtered[['PlacesCount', 'TransitionsCount', 'ArcsCount', 'VarsCount', 'ConditionsCount',\n",
    "                       'Boundedness', 'ConstraintStates', 'ConstraintArcs', 'DeadTransitions', 'Deadlocks', 'Soundness']]\n",
    "y = df_filtered['Milliseconds']\n",
    "x_mult_constant = sm.add_constant(x_mult)"
   ]
  },
  {
   "cell_type": "code",
   "execution_count": 23,
   "metadata": {},
   "outputs": [
    {
     "name": "stdout",
     "output_type": "stream",
     "text": [
      "                            OLS Regression Results                            \n",
      "==============================================================================\n",
      "Dep. Variable:           Milliseconds   R-squared:                       0.305\n",
      "Model:                            OLS   Adj. R-squared:                  0.304\n",
      "Method:                 Least Squares   F-statistic:                     339.9\n",
      "Date:                Fri, 15 Jul 2022   Prob (F-statistic):               0.00\n",
      "Time:                        10:46:56   Log-Likelihood:            -1.0084e+05\n",
      "No. Observations:                8526   AIC:                         2.017e+05\n",
      "Df Residuals:                    8514   BIC:                         2.018e+05\n",
      "Df Model:                          11                                         \n",
      "Covariance Type:            nonrobust                                         \n",
      "====================================================================================\n",
      "                       coef    std err          t      P>|t|      [0.025      0.975]\n",
      "------------------------------------------------------------------------------------\n",
      "const            -4957.2375    734.847     -6.746      0.000   -6397.716   -3516.759\n",
      "PlacesCount       -298.1216     74.470     -4.003      0.000    -444.101    -152.142\n",
      "TransitionsCount   238.5492     82.379      2.896      0.004      77.066     400.032\n",
      "ArcsCount         -163.3321     38.451     -4.248      0.000    -238.706     -87.958\n",
      "VarsCount           76.8410     24.681      3.113      0.002      28.460     125.222\n",
      "ConditionsCount    759.7752     38.382     19.795      0.000     684.537     835.014\n",
      "Boundedness       3862.2828   1188.345      3.250      0.001    1532.837    6191.728\n",
      "ConstraintStates    40.2094      1.551     25.918      0.000      37.168      43.251\n",
      "ConstraintArcs      -2.3137      0.497     -4.660      0.000      -3.287      -1.340\n",
      "DeadTransitions    284.0769     94.130      3.018      0.003      99.560     468.594\n",
      "Deadlocks        -3752.6458   2006.602     -1.870      0.061   -7686.073     180.781\n",
      "Soundness         1894.1372   1164.626      1.626      0.104    -388.813    4177.087\n",
      "==============================================================================\n",
      "Omnibus:                    18746.206   Durbin-Watson:                   1.968\n",
      "Prob(Omnibus):                  0.000   Jarque-Bera (JB):        120765026.742\n",
      "Skew:                          20.049   Prob(JB):                         0.00\n",
      "Kurtosis:                     584.666   Cond. No.                     9.69e+03\n",
      "==============================================================================\n",
      "\n",
      "Notes:\n",
      "[1] Standard Errors assume that the covariance matrix of the errors is correctly specified.\n",
      "[2] The condition number is large, 9.69e+03. This might indicate that there are\n",
      "strong multicollinearity or other numerical problems.\n"
     ]
    }
   ],
   "source": [
    "model = sm.OLS(y, x_mult_constant.astype(float)).fit()\n",
    "print(model.summary())"
   ]
  },
  {
   "cell_type": "code",
   "execution_count": 24,
   "metadata": {},
   "outputs": [
    {
     "name": "stdout",
     "output_type": "stream",
     "text": [
      "R^2 = 0.305159\n",
      "F-test significance = 0.000000\n"
     ]
    }
   ],
   "source": [
    "print('R^2 = {:f}'.format(model.rsquared))\n",
    "print('F-test significance = {:f}'.format(model.f_pvalue))"
   ]
  },
  {
   "cell_type": "code",
   "execution_count": 25,
   "metadata": {},
   "outputs": [
    {
     "data": {
      "text/plain": [
       "\"Statistically significant model parameters: ['const' 'PlacesCount' 'TransitionsCount' 'ArcsCount' 'VarsCount'\\n 'ConditionsCount' 'Boundedness' 'ConstraintStates' 'ConstraintArcs'\\n 'DeadTransitions']\""
      ]
     },
     "execution_count": 25,
     "metadata": {},
     "output_type": "execute_result"
    }
   ],
   "source": [
    "f'Statistically significant model parameters: {model.pvalues[model.pvalues < 0.05].index.values}'"
   ]
  },
  {
   "cell_type": "markdown",
   "metadata": {},
   "source": [
    "It is seen that ConditionsCount has the highest influence on the model: increase in conditionsCount by 1, on average, increases time needed for the algorithm to terminate by 0.438 seconds"
   ]
  },
  {
   "cell_type": "markdown",
   "metadata": {},
   "source": [
    "### Model for input parameters\n",
    "Here we cannot straightforwardly use a linear regression model since milliseconds grow exponentially with the increase of most input parameters. Thus, we can take log from milliseconds and use the linear regression model with the dependent variable log(milliseconds).\n",
    "\n",
    "(Based on correlation matrix, we can conclude that placesCount and transitionsCount highly correlate with each other; thus, we can choose one of them to represent the size of the model. Let us choose PlacesCount)"
   ]
  },
  {
   "cell_type": "code",
   "execution_count": 26,
   "metadata": {},
   "outputs": [
    {
     "name": "stderr",
     "output_type": "stream",
     "text": [
      "<ipython-input-26-5898ef7834df>:1: SettingWithCopyWarning: \n",
      "A value is trying to be set on a copy of a slice from a DataFrame.\n",
      "Try using .loc[row_indexer,col_indexer] = value instead\n",
      "\n",
      "See the caveats in the documentation: https://pandas.pydata.org/pandas-docs/stable/user_guide/indexing.html#returning-a-view-versus-a-copy\n",
      "  df_filtered['log_milliseconds'] = df_filtered.apply(lambda x: math.log(x['Milliseconds']+1), axis = 1)\n"
     ]
    }
   ],
   "source": [
    "df_filtered['log_milliseconds'] = df_filtered.apply(lambda x: math.log(x['Milliseconds']+1), axis = 1)"
   ]
  },
  {
   "cell_type": "code",
   "execution_count": 27,
   "metadata": {},
   "outputs": [],
   "source": [
    "x_mult2 = df_filtered[['PlacesCount', 'TransitionsCount', 'ArcsCount', 'VarsCount', 'ConditionsCount']]#, \n",
    "y2 = df_filtered['log_milliseconds']\n",
    "x_mult_constant2 = sm.add_constant(x_mult2)"
   ]
  },
  {
   "cell_type": "code",
   "execution_count": 28,
   "metadata": {},
   "outputs": [
    {
     "name": "stdout",
     "output_type": "stream",
     "text": [
      "                            OLS Regression Results                            \n",
      "==============================================================================\n",
      "Dep. Variable:       log_milliseconds   R-squared:                       0.604\n",
      "Model:                            OLS   Adj. R-squared:                  0.604\n",
      "Method:                 Least Squares   F-statistic:                     2600.\n",
      "Date:                Fri, 15 Jul 2022   Prob (F-statistic):               0.00\n",
      "Time:                        10:46:57   Log-Likelihood:                -16003.\n",
      "No. Observations:                8526   AIC:                         3.202e+04\n",
      "Df Residuals:                    8520   BIC:                         3.206e+04\n",
      "Df Model:                           5                                         \n",
      "Covariance Type:            nonrobust                                         \n",
      "====================================================================================\n",
      "                       coef    std err          t      P>|t|      [0.025      0.975]\n",
      "------------------------------------------------------------------------------------\n",
      "const                3.4578      0.025    140.292      0.000       3.409       3.506\n",
      "PlacesCount          0.0435      0.003     12.557      0.000       0.037       0.050\n",
      "TransitionsCount    -0.0215      0.004     -6.025      0.000      -0.029      -0.015\n",
      "ArcsCount            0.0015      0.002      0.844      0.399      -0.002       0.005\n",
      "VarsCount            0.0077      0.001      6.562      0.000       0.005       0.010\n",
      "ConditionsCount      0.0637      0.002     35.332      0.000       0.060       0.067\n",
      "==============================================================================\n",
      "Omnibus:                      705.641   Durbin-Watson:                   1.056\n",
      "Prob(Omnibus):                  0.000   Jarque-Bera (JB):             1681.633\n",
      "Skew:                           0.505   Prob(JB):                         0.00\n",
      "Kurtosis:                       4.927   Cond. No.                         191.\n",
      "==============================================================================\n",
      "\n",
      "Notes:\n",
      "[1] Standard Errors assume that the covariance matrix of the errors is correctly specified.\n"
     ]
    }
   ],
   "source": [
    "model2 = sm.OLS(y2, x_mult_constant2.astype(float)).fit()\n",
    "print(model2.summary())"
   ]
  },
  {
   "cell_type": "code",
   "execution_count": 29,
   "metadata": {},
   "outputs": [
    {
     "data": {
      "text/html": [
       "<div>\n",
       "<style scoped>\n",
       "    .dataframe tbody tr th:only-of-type {\n",
       "        vertical-align: middle;\n",
       "    }\n",
       "\n",
       "    .dataframe tbody tr th {\n",
       "        vertical-align: top;\n",
       "    }\n",
       "\n",
       "    .dataframe thead th {\n",
       "        text-align: right;\n",
       "    }\n",
       "</style>\n",
       "<table border=\"1\" class=\"dataframe\">\n",
       "  <thead>\n",
       "    <tr style=\"text-align: right;\">\n",
       "      <th></th>\n",
       "      <th>Coefs</th>\n",
       "    </tr>\n",
       "    <tr>\n",
       "      <th>Features</th>\n",
       "      <th></th>\n",
       "    </tr>\n",
       "  </thead>\n",
       "  <tbody>\n",
       "    <tr>\n",
       "      <th>PlacesCount</th>\n",
       "      <td>4.448996</td>\n",
       "    </tr>\n",
       "    <tr>\n",
       "      <th>TransitionsCount</th>\n",
       "      <td>-2.129341</td>\n",
       "    </tr>\n",
       "    <tr>\n",
       "      <th>ArcsCount</th>\n",
       "      <td>0.152752</td>\n",
       "    </tr>\n",
       "    <tr>\n",
       "      <th>VarsCount</th>\n",
       "      <td>0.770934</td>\n",
       "    </tr>\n",
       "    <tr>\n",
       "      <th>ConditionsCount</th>\n",
       "      <td>6.579329</td>\n",
       "    </tr>\n",
       "  </tbody>\n",
       "</table>\n",
       "</div>"
      ],
      "text/plain": [
       "                     Coefs\n",
       "Features                  \n",
       "PlacesCount       4.448996\n",
       "TransitionsCount -2.129341\n",
       "ArcsCount         0.152752\n",
       "VarsCount         0.770934\n",
       "ConditionsCount   6.579329"
      ]
     },
     "execution_count": 29,
     "metadata": {},
     "output_type": "execute_result"
    }
   ],
   "source": [
    "coefs = pd.DataFrame()\n",
    "coefs['Coefs'] = model2.params[1:]\n",
    "coefs['Coefs'] = (np.exp(coefs['Coefs']) - 1) * 100\n",
    "coefs['Features'] = model2.params.index[1:]\n",
    "coefs.set_index('Features', inplace=True)\n",
    "coefs"
   ]
  },
  {
   "cell_type": "code",
   "execution_count": null,
   "metadata": {},
   "outputs": [],
   "source": []
  },
  {
   "cell_type": "markdown",
   "metadata": {},
   "source": [
    "#### Trying to use linear model against net_size = |Places| * |Transitions|"
   ]
  },
  {
   "cell_type": "code",
   "execution_count": 30,
   "metadata": {},
   "outputs": [
    {
     "name": "stderr",
     "output_type": "stream",
     "text": [
      "<ipython-input-30-06e3bc7f2c1a>:1: SettingWithCopyWarning: \n",
      "A value is trying to be set on a copy of a slice from a DataFrame.\n",
      "Try using .loc[row_indexer,col_indexer] = value instead\n",
      "\n",
      "See the caveats in the documentation: https://pandas.pydata.org/pandas-docs/stable/user_guide/indexing.html#returning-a-view-versus-a-copy\n",
      "  df_filtered['net_size'] = df_filtered.PlacesCount * df_filtered.TransitionsCount\n"
     ]
    }
   ],
   "source": [
    "df_filtered['net_size'] = df_filtered.PlacesCount * df_filtered.TransitionsCount"
   ]
  },
  {
   "cell_type": "code",
   "execution_count": 31,
   "metadata": {},
   "outputs": [],
   "source": [
    "x_mult2 = df_filtered[['net_size', 'ArcsCount', 'VarsCount', 'ConditionsCount']]\n",
    "y2 = df_filtered['log_milliseconds']\n",
    "x_mult_constant2 = sm.add_constant(x_mult2)"
   ]
  },
  {
   "cell_type": "code",
   "execution_count": 32,
   "metadata": {},
   "outputs": [
    {
     "name": "stdout",
     "output_type": "stream",
     "text": [
      "                            OLS Regression Results                            \n",
      "==============================================================================\n",
      "Dep. Variable:       log_milliseconds   R-squared:                       0.638\n",
      "Model:                            OLS   Adj. R-squared:                  0.638\n",
      "Method:                 Least Squares   F-statistic:                     3762.\n",
      "Date:                Fri, 15 Jul 2022   Prob (F-statistic):               0.00\n",
      "Time:                        10:46:57   Log-Likelihood:                -15615.\n",
      "No. Observations:                8526   AIC:                         3.124e+04\n",
      "Df Residuals:                    8521   BIC:                         3.128e+04\n",
      "Df Model:                           4                                         \n",
      "Covariance Type:            nonrobust                                         \n",
      "===================================================================================\n",
      "                      coef    std err          t      P>|t|      [0.025      0.975]\n",
      "-----------------------------------------------------------------------------------\n",
      "const               2.9498      0.027    108.491      0.000       2.897       3.003\n",
      "net_size           -0.0003   8.29e-06    -32.140      0.000      -0.000      -0.000\n",
      "ArcsCount           0.0187      0.001     37.014      0.000       0.018       0.020\n",
      "VarsCount           0.0170      0.001     16.653      0.000       0.015       0.019\n",
      "ConditionsCount     0.0706      0.002     42.435      0.000       0.067       0.074\n",
      "==============================================================================\n",
      "Omnibus:                     1347.816   Durbin-Watson:                   1.173\n",
      "Prob(Omnibus):                  0.000   Jarque-Bera (JB):             2527.285\n",
      "Skew:                           0.993   Prob(JB):                         0.00\n",
      "Kurtosis:                       4.781   Cond. No.                     7.90e+03\n",
      "==============================================================================\n",
      "\n",
      "Notes:\n",
      "[1] Standard Errors assume that the covariance matrix of the errors is correctly specified.\n",
      "[2] The condition number is large, 7.9e+03. This might indicate that there are\n",
      "strong multicollinearity or other numerical problems.\n"
     ]
    }
   ],
   "source": [
    "model2 = sm.OLS(y2, x_mult_constant2.astype(float)).fit()\n",
    "print(model2.summary())"
   ]
  },
  {
   "cell_type": "code",
   "execution_count": 33,
   "metadata": {},
   "outputs": [
    {
     "data": {
      "text/html": [
       "<div>\n",
       "<style scoped>\n",
       "    .dataframe tbody tr th:only-of-type {\n",
       "        vertical-align: middle;\n",
       "    }\n",
       "\n",
       "    .dataframe tbody tr th {\n",
       "        vertical-align: top;\n",
       "    }\n",
       "\n",
       "    .dataframe thead th {\n",
       "        text-align: right;\n",
       "    }\n",
       "</style>\n",
       "<table border=\"1\" class=\"dataframe\">\n",
       "  <thead>\n",
       "    <tr style=\"text-align: right;\">\n",
       "      <th></th>\n",
       "      <th>Coefs</th>\n",
       "    </tr>\n",
       "    <tr>\n",
       "      <th>Features</th>\n",
       "      <th></th>\n",
       "    </tr>\n",
       "  </thead>\n",
       "  <tbody>\n",
       "    <tr>\n",
       "      <th>net_size</th>\n",
       "      <td>-0.026641</td>\n",
       "    </tr>\n",
       "    <tr>\n",
       "      <th>ArcsCount</th>\n",
       "      <td>1.890156</td>\n",
       "    </tr>\n",
       "    <tr>\n",
       "      <th>VarsCount</th>\n",
       "      <td>1.712771</td>\n",
       "    </tr>\n",
       "    <tr>\n",
       "      <th>ConditionsCount</th>\n",
       "      <td>7.310468</td>\n",
       "    </tr>\n",
       "  </tbody>\n",
       "</table>\n",
       "</div>"
      ],
      "text/plain": [
       "                    Coefs\n",
       "Features                 \n",
       "net_size        -0.026641\n",
       "ArcsCount        1.890156\n",
       "VarsCount        1.712771\n",
       "ConditionsCount  7.310468"
      ]
     },
     "execution_count": 33,
     "metadata": {},
     "output_type": "execute_result"
    }
   ],
   "source": [
    "coefs = pd.DataFrame()\n",
    "coefs['Coefs'] = model2.params[1:]\n",
    "coefs['Coefs'] = (np.exp(coefs['Coefs']) - 1) * 100\n",
    "coefs['Features'] = model2.params.index[1:]\n",
    "coefs.set_index('Features', inplace=True)\n",
    "coefs"
   ]
  },
  {
   "cell_type": "code",
   "execution_count": null,
   "metadata": {},
   "outputs": [],
   "source": []
  },
  {
   "cell_type": "code",
   "execution_count": null,
   "metadata": {},
   "outputs": [],
   "source": []
  },
  {
   "cell_type": "markdown",
   "metadata": {},
   "source": [
    "### Protocol №2\n",
    "\n",
    "Consider only DPNs with the following setup:\n",
    "\n",
    "- 1.2n places,\n",
    "- n transitions\n",
    "- 0.5n additional arcs\n",
    "- 0.5n variables\n",
    "- n conditions.\n",
    "\n",
    "n is a natural number varying from 5 to 115 with a step equal to 5.\n",
    "\n",
    "For each configuration, 3 DPNs are generated and tested. All nets are with Dead Transitions < 0.6 * Transitions"
   ]
  },
  {
   "cell_type": "code",
   "execution_count": 34,
   "metadata": {},
   "outputs": [
    {
     "data": {
      "text/html": [
       "<div>\n",
       "<style scoped>\n",
       "    .dataframe tbody tr th:only-of-type {\n",
       "        vertical-align: middle;\n",
       "    }\n",
       "\n",
       "    .dataframe tbody tr th {\n",
       "        vertical-align: top;\n",
       "    }\n",
       "\n",
       "    .dataframe thead th {\n",
       "        text-align: right;\n",
       "    }\n",
       "</style>\n",
       "<table border=\"1\" class=\"dataframe\">\n",
       "  <thead>\n",
       "    <tr style=\"text-align: right;\">\n",
       "      <th></th>\n",
       "      <th>PlacesCount</th>\n",
       "      <th>TransitionsCount</th>\n",
       "      <th>ArcsCount</th>\n",
       "      <th>VarsCount</th>\n",
       "      <th>ConditionsCount</th>\n",
       "      <th>Boundedness</th>\n",
       "      <th>ConstraintStates</th>\n",
       "      <th>ConstraintArcs</th>\n",
       "      <th>DeadTransitions</th>\n",
       "      <th>Deadlocks</th>\n",
       "      <th>Soundness</th>\n",
       "      <th>Milliseconds</th>\n",
       "    </tr>\n",
       "  </thead>\n",
       "  <tbody>\n",
       "    <tr>\n",
       "      <th>0</th>\n",
       "      <td>6</td>\n",
       "      <td>5</td>\n",
       "      <td>12</td>\n",
       "      <td>3</td>\n",
       "      <td>5</td>\n",
       "      <td>False</td>\n",
       "      <td>7</td>\n",
       "      <td>6</td>\n",
       "      <td>2</td>\n",
       "      <td>False</td>\n",
       "      <td>False</td>\n",
       "      <td>33</td>\n",
       "    </tr>\n",
       "    <tr>\n",
       "      <th>1</th>\n",
       "      <td>6</td>\n",
       "      <td>5</td>\n",
       "      <td>13</td>\n",
       "      <td>3</td>\n",
       "      <td>5</td>\n",
       "      <td>False</td>\n",
       "      <td>7</td>\n",
       "      <td>6</td>\n",
       "      <td>1</td>\n",
       "      <td>False</td>\n",
       "      <td>False</td>\n",
       "      <td>133</td>\n",
       "    </tr>\n",
       "    <tr>\n",
       "      <th>2</th>\n",
       "      <td>6</td>\n",
       "      <td>5</td>\n",
       "      <td>12</td>\n",
       "      <td>3</td>\n",
       "      <td>5</td>\n",
       "      <td>False</td>\n",
       "      <td>6</td>\n",
       "      <td>5</td>\n",
       "      <td>2</td>\n",
       "      <td>False</td>\n",
       "      <td>False</td>\n",
       "      <td>40</td>\n",
       "    </tr>\n",
       "    <tr>\n",
       "      <th>3</th>\n",
       "      <td>12</td>\n",
       "      <td>10</td>\n",
       "      <td>26</td>\n",
       "      <td>5</td>\n",
       "      <td>10</td>\n",
       "      <td>False</td>\n",
       "      <td>12</td>\n",
       "      <td>11</td>\n",
       "      <td>4</td>\n",
       "      <td>False</td>\n",
       "      <td>False</td>\n",
       "      <td>64</td>\n",
       "    </tr>\n",
       "    <tr>\n",
       "      <th>4</th>\n",
       "      <td>12</td>\n",
       "      <td>10</td>\n",
       "      <td>27</td>\n",
       "      <td>5</td>\n",
       "      <td>10</td>\n",
       "      <td>False</td>\n",
       "      <td>25</td>\n",
       "      <td>24</td>\n",
       "      <td>0</td>\n",
       "      <td>False</td>\n",
       "      <td>True</td>\n",
       "      <td>130</td>\n",
       "    </tr>\n",
       "    <tr>\n",
       "      <th>...</th>\n",
       "      <td>...</td>\n",
       "      <td>...</td>\n",
       "      <td>...</td>\n",
       "      <td>...</td>\n",
       "      <td>...</td>\n",
       "      <td>...</td>\n",
       "      <td>...</td>\n",
       "      <td>...</td>\n",
       "      <td>...</td>\n",
       "      <td>...</td>\n",
       "      <td>...</td>\n",
       "      <td>...</td>\n",
       "    </tr>\n",
       "    <tr>\n",
       "      <th>66</th>\n",
       "      <td>132</td>\n",
       "      <td>110</td>\n",
       "      <td>315</td>\n",
       "      <td>55</td>\n",
       "      <td>110</td>\n",
       "      <td>False</td>\n",
       "      <td>2453</td>\n",
       "      <td>2478</td>\n",
       "      <td>65</td>\n",
       "      <td>False</td>\n",
       "      <td>False</td>\n",
       "      <td>267205</td>\n",
       "    </tr>\n",
       "    <tr>\n",
       "      <th>67</th>\n",
       "      <td>132</td>\n",
       "      <td>110</td>\n",
       "      <td>317</td>\n",
       "      <td>55</td>\n",
       "      <td>110</td>\n",
       "      <td>False</td>\n",
       "      <td>1223</td>\n",
       "      <td>1222</td>\n",
       "      <td>60</td>\n",
       "      <td>False</td>\n",
       "      <td>False</td>\n",
       "      <td>40078</td>\n",
       "    </tr>\n",
       "    <tr>\n",
       "      <th>68</th>\n",
       "      <td>138</td>\n",
       "      <td>115</td>\n",
       "      <td>331</td>\n",
       "      <td>57</td>\n",
       "      <td>115</td>\n",
       "      <td>False</td>\n",
       "      <td>2561</td>\n",
       "      <td>3698</td>\n",
       "      <td>50</td>\n",
       "      <td>False</td>\n",
       "      <td>False</td>\n",
       "      <td>446321</td>\n",
       "    </tr>\n",
       "    <tr>\n",
       "      <th>69</th>\n",
       "      <td>138</td>\n",
       "      <td>115</td>\n",
       "      <td>330</td>\n",
       "      <td>57</td>\n",
       "      <td>115</td>\n",
       "      <td>False</td>\n",
       "      <td>1692</td>\n",
       "      <td>1696</td>\n",
       "      <td>59</td>\n",
       "      <td>False</td>\n",
       "      <td>False</td>\n",
       "      <td>370028</td>\n",
       "    </tr>\n",
       "    <tr>\n",
       "      <th>70</th>\n",
       "      <td>138</td>\n",
       "      <td>115</td>\n",
       "      <td>331</td>\n",
       "      <td>57</td>\n",
       "      <td>115</td>\n",
       "      <td>False</td>\n",
       "      <td>1601</td>\n",
       "      <td>1603</td>\n",
       "      <td>68</td>\n",
       "      <td>False</td>\n",
       "      <td>False</td>\n",
       "      <td>83612</td>\n",
       "    </tr>\n",
       "  </tbody>\n",
       "</table>\n",
       "<p>71 rows × 12 columns</p>\n",
       "</div>"
      ],
      "text/plain": [
       "    PlacesCount  TransitionsCount  ArcsCount  VarsCount  ConditionsCount  \\\n",
       "0             6                 5         12          3                5   \n",
       "1             6                 5         13          3                5   \n",
       "2             6                 5         12          3                5   \n",
       "3            12                10         26          5               10   \n",
       "4            12                10         27          5               10   \n",
       "..          ...               ...        ...        ...              ...   \n",
       "66          132               110        315         55              110   \n",
       "67          132               110        317         55              110   \n",
       "68          138               115        331         57              115   \n",
       "69          138               115        330         57              115   \n",
       "70          138               115        331         57              115   \n",
       "\n",
       "    Boundedness  ConstraintStates  ConstraintArcs  DeadTransitions  Deadlocks  \\\n",
       "0         False                 7               6                2      False   \n",
       "1         False                 7               6                1      False   \n",
       "2         False                 6               5                2      False   \n",
       "3         False                12              11                4      False   \n",
       "4         False                25              24                0      False   \n",
       "..          ...               ...             ...              ...        ...   \n",
       "66        False              2453            2478               65      False   \n",
       "67        False              1223            1222               60      False   \n",
       "68        False              2561            3698               50      False   \n",
       "69        False              1692            1696               59      False   \n",
       "70        False              1601            1603               68      False   \n",
       "\n",
       "    Soundness  Milliseconds  \n",
       "0       False            33  \n",
       "1       False           133  \n",
       "2       False            40  \n",
       "3       False            64  \n",
       "4        True           130  \n",
       "..        ...           ...  \n",
       "66      False        267205  \n",
       "67      False         40078  \n",
       "68      False        446321  \n",
       "69      False        370028  \n",
       "70      False         83612  \n",
       "\n",
       "[71 rows x 12 columns]"
      ]
     },
     "execution_count": 34,
     "metadata": {},
     "output_type": "execute_result"
    }
   ],
   "source": [
    "df1 = pd.read_csv('results_qeIml_protocol_2.csv')\n",
    "df1"
   ]
  },
  {
   "cell_type": "markdown",
   "metadata": {},
   "source": [
    "### Time needed for the algorithm with the growth of n"
   ]
  },
  {
   "cell_type": "code",
   "execution_count": 35,
   "metadata": {},
   "outputs": [
    {
     "data": {
      "text/plain": [
       "<matplotlib.legend.Legend at 0x1fd7dc59460>"
      ]
     },
     "execution_count": 35,
     "metadata": {},
     "output_type": "execute_result"
    },
    {
     "data": {
      "image/png": "[encoded data removed]",
      "text/plain": [
       "<Figure size 432x288 with 1 Axes>"
      ]
     },
     "metadata": {
      "needs_background": "light"
     },
     "output_type": "display_data"
    }
   ],
   "source": [
    "ms_per_places = df1.groupby('TransitionsCount').mean()['Milliseconds']\n",
    "plt.plot(ms_per_places, color=\"blue\",label=\"Original Milliseconds per TransitionsCount\") \n",
    "rolling_mean = ms_per_places.rolling(5).mean() \n",
    "plt.plot(rolling_mean, color=\"red\", label=\"Rolling Mean Milliseconds per TransitionsCount\") \n",
    "plt.legend(loc=\"best\")"
   ]
  },
  {
   "cell_type": "code",
   "execution_count": null,
   "metadata": {},
   "outputs": [],
   "source": []
  },
  {
   "cell_type": "markdown",
   "metadata": {},
   "source": [
    "## Own implementation"
   ]
  },
  {
   "cell_type": "markdown",
   "metadata": {},
   "source": [
    "### Protocol 2\n",
    "\n",
    "Consider only DPNs with the following setup:\n",
    "\n",
    "- 1.2n places,\n",
    "- n transitions\n",
    "- 0.5n additional arcs\n",
    "- 0.5n variables\n",
    "- n conditions.\n",
    "\n",
    "n is a natural number varying from 5 to 115 with a step equal to 5.\n",
    "\n",
    "For each configuration, 3 DPNs are generated and tested. All nets are with Dead Transitions < 0.6 * Transitions"
   ]
  },
  {
   "cell_type": "code",
   "execution_count": 37,
   "metadata": {},
   "outputs": [
    {
     "data": {
      "text/html": [
       "<div>\n",
       "<style scoped>\n",
       "    .dataframe tbody tr th:only-of-type {\n",
       "        vertical-align: middle;\n",
       "    }\n",
       "\n",
       "    .dataframe tbody tr th {\n",
       "        vertical-align: top;\n",
       "    }\n",
       "\n",
       "    .dataframe thead th {\n",
       "        text-align: right;\n",
       "    }\n",
       "</style>\n",
       "<table border=\"1\" class=\"dataframe\">\n",
       "  <thead>\n",
       "    <tr style=\"text-align: right;\">\n",
       "      <th></th>\n",
       "      <th>PlacesCount</th>\n",
       "      <th>TransitionsCount</th>\n",
       "      <th>ArcsCount</th>\n",
       "      <th>VarsCount</th>\n",
       "      <th>ConditionsCount</th>\n",
       "      <th>Boundedness</th>\n",
       "      <th>ConstraintStates</th>\n",
       "      <th>ConstraintArcs</th>\n",
       "      <th>DeadTransitions</th>\n",
       "      <th>Deadlocks</th>\n",
       "      <th>Soundness</th>\n",
       "      <th>Milliseconds</th>\n",
       "    </tr>\n",
       "  </thead>\n",
       "  <tbody>\n",
       "    <tr>\n",
       "      <th>0</th>\n",
       "      <td>6</td>\n",
       "      <td>5</td>\n",
       "      <td>13</td>\n",
       "      <td>3</td>\n",
       "      <td>5</td>\n",
       "      <td>False</td>\n",
       "      <td>8</td>\n",
       "      <td>7</td>\n",
       "      <td>0</td>\n",
       "      <td>False</td>\n",
       "      <td>True</td>\n",
       "      <td>85</td>\n",
       "    </tr>\n",
       "    <tr>\n",
       "      <th>1</th>\n",
       "      <td>6</td>\n",
       "      <td>5</td>\n",
       "      <td>12</td>\n",
       "      <td>3</td>\n",
       "      <td>5</td>\n",
       "      <td>True</td>\n",
       "      <td>6</td>\n",
       "      <td>6</td>\n",
       "      <td>2</td>\n",
       "      <td>True</td>\n",
       "      <td>False</td>\n",
       "      <td>29</td>\n",
       "    </tr>\n",
       "    <tr>\n",
       "      <th>2</th>\n",
       "      <td>6</td>\n",
       "      <td>5</td>\n",
       "      <td>12</td>\n",
       "      <td>3</td>\n",
       "      <td>5</td>\n",
       "      <td>False</td>\n",
       "      <td>8</td>\n",
       "      <td>8</td>\n",
       "      <td>1</td>\n",
       "      <td>False</td>\n",
       "      <td>False</td>\n",
       "      <td>47</td>\n",
       "    </tr>\n",
       "    <tr>\n",
       "      <th>3</th>\n",
       "      <td>12</td>\n",
       "      <td>10</td>\n",
       "      <td>27</td>\n",
       "      <td>5</td>\n",
       "      <td>10</td>\n",
       "      <td>False</td>\n",
       "      <td>117</td>\n",
       "      <td>152</td>\n",
       "      <td>0</td>\n",
       "      <td>False</td>\n",
       "      <td>True</td>\n",
       "      <td>3191</td>\n",
       "    </tr>\n",
       "    <tr>\n",
       "      <th>4</th>\n",
       "      <td>12</td>\n",
       "      <td>10</td>\n",
       "      <td>26</td>\n",
       "      <td>5</td>\n",
       "      <td>10</td>\n",
       "      <td>True</td>\n",
       "      <td>65</td>\n",
       "      <td>143</td>\n",
       "      <td>3</td>\n",
       "      <td>True</td>\n",
       "      <td>False</td>\n",
       "      <td>1041</td>\n",
       "    </tr>\n",
       "    <tr>\n",
       "      <th>...</th>\n",
       "      <td>...</td>\n",
       "      <td>...</td>\n",
       "      <td>...</td>\n",
       "      <td>...</td>\n",
       "      <td>...</td>\n",
       "      <td>...</td>\n",
       "      <td>...</td>\n",
       "      <td>...</td>\n",
       "      <td>...</td>\n",
       "      <td>...</td>\n",
       "      <td>...</td>\n",
       "      <td>...</td>\n",
       "    </tr>\n",
       "    <tr>\n",
       "      <th>65</th>\n",
       "      <td>132</td>\n",
       "      <td>110</td>\n",
       "      <td>317</td>\n",
       "      <td>55</td>\n",
       "      <td>110</td>\n",
       "      <td>False</td>\n",
       "      <td>577</td>\n",
       "      <td>576</td>\n",
       "      <td>60</td>\n",
       "      <td>False</td>\n",
       "      <td>False</td>\n",
       "      <td>263347</td>\n",
       "    </tr>\n",
       "    <tr>\n",
       "      <th>66</th>\n",
       "      <td>132</td>\n",
       "      <td>110</td>\n",
       "      <td>317</td>\n",
       "      <td>55</td>\n",
       "      <td>110</td>\n",
       "      <td>False</td>\n",
       "      <td>456</td>\n",
       "      <td>458</td>\n",
       "      <td>58</td>\n",
       "      <td>False</td>\n",
       "      <td>False</td>\n",
       "      <td>349479</td>\n",
       "    </tr>\n",
       "    <tr>\n",
       "      <th>67</th>\n",
       "      <td>138</td>\n",
       "      <td>115</td>\n",
       "      <td>330</td>\n",
       "      <td>57</td>\n",
       "      <td>115</td>\n",
       "      <td>False</td>\n",
       "      <td>1330</td>\n",
       "      <td>1338</td>\n",
       "      <td>68</td>\n",
       "      <td>False</td>\n",
       "      <td>False</td>\n",
       "      <td>78521</td>\n",
       "    </tr>\n",
       "    <tr>\n",
       "      <th>68</th>\n",
       "      <td>138</td>\n",
       "      <td>115</td>\n",
       "      <td>331</td>\n",
       "      <td>57</td>\n",
       "      <td>115</td>\n",
       "      <td>False</td>\n",
       "      <td>525</td>\n",
       "      <td>528</td>\n",
       "      <td>63</td>\n",
       "      <td>False</td>\n",
       "      <td>False</td>\n",
       "      <td>211427</td>\n",
       "    </tr>\n",
       "    <tr>\n",
       "      <th>69</th>\n",
       "      <td>138</td>\n",
       "      <td>115</td>\n",
       "      <td>331</td>\n",
       "      <td>57</td>\n",
       "      <td>115</td>\n",
       "      <td>False</td>\n",
       "      <td>615</td>\n",
       "      <td>939</td>\n",
       "      <td>68</td>\n",
       "      <td>False</td>\n",
       "      <td>False</td>\n",
       "      <td>55687</td>\n",
       "    </tr>\n",
       "  </tbody>\n",
       "</table>\n",
       "<p>70 rows × 12 columns</p>\n",
       "</div>"
      ],
      "text/plain": [
       "    PlacesCount  TransitionsCount  ArcsCount  VarsCount  ConditionsCount  \\\n",
       "0             6                 5         13          3                5   \n",
       "1             6                 5         12          3                5   \n",
       "2             6                 5         12          3                5   \n",
       "3            12                10         27          5               10   \n",
       "4            12                10         26          5               10   \n",
       "..          ...               ...        ...        ...              ...   \n",
       "65          132               110        317         55              110   \n",
       "66          132               110        317         55              110   \n",
       "67          138               115        330         57              115   \n",
       "68          138               115        331         57              115   \n",
       "69          138               115        331         57              115   \n",
       "\n",
       "    Boundedness  ConstraintStates  ConstraintArcs  DeadTransitions  Deadlocks  \\\n",
       "0         False                 8               7                0      False   \n",
       "1          True                 6               6                2       True   \n",
       "2         False                 8               8                1      False   \n",
       "3         False               117             152                0      False   \n",
       "4          True                65             143                3       True   \n",
       "..          ...               ...             ...              ...        ...   \n",
       "65        False               577             576               60      False   \n",
       "66        False               456             458               58      False   \n",
       "67        False              1330            1338               68      False   \n",
       "68        False               525             528               63      False   \n",
       "69        False               615             939               68      False   \n",
       "\n",
       "    Soundness  Milliseconds  \n",
       "0        True            85  \n",
       "1       False            29  \n",
       "2       False            47  \n",
       "3        True          3191  \n",
       "4       False          1041  \n",
       "..        ...           ...  \n",
       "65      False        263347  \n",
       "66      False        349479  \n",
       "67      False         78521  \n",
       "68      False        211427  \n",
       "69      False         55687  \n",
       "\n",
       "[70 rows x 12 columns]"
      ]
     },
     "execution_count": 37,
     "metadata": {},
     "output_type": "execute_result"
    }
   ],
   "source": [
    "df2 = pd.read_csv('results_myImpl_protocol_2.csv')\n",
    "df2"
   ]
  },
  {
   "cell_type": "code",
   "execution_count": 38,
   "metadata": {},
   "outputs": [
    {
     "data": {
      "text/plain": [
       "<matplotlib.legend.Legend at 0x1fd7fd843d0>"
      ]
     },
     "execution_count": 38,
     "metadata": {},
     "output_type": "execute_result"
    },
    {
     "data": {
      "image/png": "[encoded data removed]",
      "text/plain": [
       "<Figure size 432x288 with 1 Axes>"
      ]
     },
     "metadata": {
      "needs_background": "light"
     },
     "output_type": "display_data"
    }
   ],
   "source": [
    "ms_per_places = df2.groupby('TransitionsCount').mean()['Milliseconds']\n",
    "plt.plot(ms_per_places, color=\"blue\",label=\"Original Milliseconds per TransitionsCount\") \n",
    "rolling_mean = ms_per_places.rolling(5).mean() \n",
    "plt.plot(rolling_mean, color=\"red\", label=\"Rolling Mean Milliseconds per TransitionsCount\") \n",
    "plt.legend(loc=\"best\")"
   ]
  },
  {
   "cell_type": "code",
   "execution_count": null,
   "metadata": {},
   "outputs": [],
   "source": []
  }
 ],
 "metadata": {
  "kernelspec": {
   "display_name": "Python 3",
   "language": "python",
   "name": "python3"
  },
  "language_info": {
   "codemirror_mode": {
    "name": "ipython",
    "version": 3
   },
   "file_extension": ".py",
   "mimetype": "text/x-python",
   "name": "python",
   "nbconvert_exporter": "python",
   "pygments_lexer": "ipython3",
   "version": "3.8.1"
  }
 },
 "nbformat": 4,
 "nbformat_minor": 4
}
